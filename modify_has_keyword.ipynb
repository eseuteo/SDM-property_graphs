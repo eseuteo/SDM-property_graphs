{
 "cells": [
  {
   "cell_type": "code",
   "execution_count": 1,
   "metadata": {},
   "outputs": [],
   "source": [
    "import pandas as pd\n",
    "import random"
   ]
  },
  {
   "cell_type": "code",
   "execution_count": 4,
   "metadata": {},
   "outputs": [],
   "source": [
    "df_has_keyword = pd.read_csv('data/data_to_populate/has_keyword_relationship.csv', sep=';', engine='c', dtype=str)\n",
    "df_keyword = pd.read_csv('data/data_to_populate/keyword_node.csv', sep=';', engine='c', dtype=str)\n",
    "df_article = pd.read_csv('data/data_to_populate/article_node.csv', sep=';', engine='c', dtype=str)"
   ]
  },
  {
   "cell_type": "code",
   "execution_count": 13,
   "metadata": {},
   "outputs": [],
   "source": [
    "article_id = list(df_article['article:ID'])\n",
    "keyword_id = list(df_keyword[:7][':ID'])\n",
    "new_relation_article = []\n",
    "new_relation_keyword = []\n",
    "for article in article_id:\n",
    "    if random.randint(1,100) > 30:\n",
    "        new_relation_article.append(article)\n",
    "        new_relation_keyword.append(random.choice(keyword_id))"
   ]
  },
  {
   "cell_type": "code",
   "execution_count": 18,
   "metadata": {},
   "outputs": [],
   "source": [
    "df_keyword = pd.DataFrame()\n",
    "df_keyword[':START_ID'] = new_relation_article\n",
    "df_keyword[':END_ID'] = new_relation_keyword\n",
    "df_keyword.to_csv('new_keywords.csv', header=True, index=False, sep=';')"
   ]
  }
 ],
 "metadata": {
  "kernelspec": {
   "display_name": "sdm",
   "language": "python",
   "name": "sdm"
  },
  "language_info": {
   "codemirror_mode": {
    "name": "ipython",
    "version": 3
   },
   "file_extension": ".py",
   "mimetype": "text/x-python",
   "name": "python",
   "nbconvert_exporter": "python",
   "pygments_lexer": "ipython3",
   "version": "3.6.9"
  }
 },
 "nbformat": 4,
 "nbformat_minor": 4
}
