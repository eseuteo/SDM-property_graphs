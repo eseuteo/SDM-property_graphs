{
 "cells": [
  {
   "cell_type": "code",
   "execution_count": 5,
   "metadata": {},
   "outputs": [],
   "source": [
    "import pandas as pd\n",
    "import numpy as np\n",
    "import random\n",
    "import lorem"
   ]
  },
  {
   "cell_type": "code",
   "execution_count": 2,
   "metadata": {},
   "outputs": [],
   "source": [
    "reviews_df = pd.read_csv('data/data_to_populate/reviews_relationship.csv', sep=';', engine='c', dtype=str)\n",
    "review_node_df = pd.DataFrame()\n",
    "makes_relationship_df = pd.DataFrame()\n",
    "about_relationship_df = pd.DataFrame()"
   ]
  },
  {
   "cell_type": "code",
   "execution_count": 9,
   "metadata": {},
   "outputs": [],
   "source": [
    "list_review_id = []\n",
    "list_review_content = []\n",
    "list_review_suggested_decision = []\n",
    "for i in range(len(reviews_df)):\n",
    "    list_review_id.append('77765' + str(i).zfill(6))\n",
    "    list_review_content.append(lorem.sentence())\n",
    "    list_review_suggested_decision.append(False if random.randint(1, 100) < 2 else True)\n",
    "review_node_df[':ID'] = list_review_id\n",
    "review_node_df['string:content'] = list_review_content\n",
    "review_node_df['string:decision'] = list_review_suggested_decision"
   ]
  },
  {
   "cell_type": "code",
   "execution_count": 14,
   "metadata": {},
   "outputs": [],
   "source": [
    "makes_relationship_df[':START_ID'] = reviews_df[':START_ID']\n",
    "makes_relationship_df[':END_ID'] = list_review_id\n",
    "about_relationship_df[':START_ID'] = list_review_id\n",
    "about_relationship_df[':END_ID'] = reviews_df[':END_ID']"
   ]
  },
  {
   "cell_type": "code",
   "execution_count": 15,
   "metadata": {},
   "outputs": [],
   "source": [
    "review_node_df.to_csv('review_node.csv', header=True, index=False, sep=';')\n",
    "makes_relationship_df.to_csv('makes_relationship.csv', header=True, index=False, sep=';')\n",
    "about_relationship_df.to_csv('about_relationship.csv', header=True, index=False, sep=';')"
   ]
  }
 ],
 "metadata": {
  "kernelspec": {
   "display_name": "sdm",
   "language": "python",
   "name": "sdm"
  },
  "language_info": {
   "codemirror_mode": {
    "name": "ipython",
    "version": 3
   },
   "file_extension": ".py",
   "mimetype": "text/x-python",
   "name": "python",
   "nbconvert_exporter": "python",
   "pygments_lexer": "ipython3",
   "version": "3.6.9"
  }
 },
 "nbformat": 4,
 "nbformat_minor": 2
}
