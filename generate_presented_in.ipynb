{
 "cells": [
  {
   "cell_type": "code",
   "execution_count": 8,
   "metadata": {},
   "outputs": [],
   "source": [
    "import pandas as pd\n",
    "import numpy as np\n",
    "import random"
   ]
  },
  {
   "cell_type": "code",
   "execution_count": 9,
   "metadata": {},
   "outputs": [],
   "source": [
    "df_presented_in = pd.read_csv('data/data_to_populate/presented_in_relationship.csv', sep=';', engine='c', dtype=str)\n",
    "df_conferences = pd.read_csv('data/data_to_populate/conference_workshop_node.csv', sep=';', engine='c', dtype=str)\n",
    "df_articles = pd.read_csv('data/data_to_populate/article_node.csv', sep=';', engine='c', dtype=str)"
   ]
  },
  {
   "cell_type": "code",
   "execution_count": 10,
   "metadata": {},
   "outputs": [],
   "source": [
    "# Generate venues df\n",
    "\n",
    "import geonamescache\n",
    "\n",
    "gc = geonamescache.GeonamesCache()\n",
    "cities = gc.get_cities()\n",
    "cities_list = [item['name'] for item in list(cities.values())]\n",
    "df_cities = pd.DataFrame(cities_list)\n",
    "df_cities = df_cities.sample(100)"
   ]
  },
  {
   "cell_type": "code",
   "execution_count": 11,
   "metadata": {},
   "outputs": [],
   "source": [
    "# Generate months list\n",
    "months = ['Jan', 'Feb', 'Mar', 'Apr', 'May', 'Jun', 'Jul', 'Ago', 'Sep', 'Oct', 'Nov', 'Dec']"
   ]
  },
  {
   "cell_type": "code",
   "execution_count": 12,
   "metadata": {},
   "outputs": [
    {
     "name": "stdout",
     "output_type": "stream",
     "text": [
      "0\n",
      "10000\n",
      "20000\n",
      "30000\n",
      "40000\n",
      "50000\n",
      "60000\n",
      "70000\n",
      "80000\n",
      "90000\n"
     ]
    }
   ],
   "source": [
    "conference = []\n",
    "venue = []\n",
    "period = []\n",
    "edition = []\n",
    "i = 0\n",
    "for index, row in df_articles.iterrows():\n",
    "    if i % 10000 == 0:\n",
    "        print(i)\n",
    "    i += 1\n",
    "    conference.append(df_conferences['conference:ID'].sample().iloc[0])\n",
    "    venue.append(df_cities.sample().iloc[0][0])\n",
    "    date = random.randint(1,25)\n",
    "    period.append(str(date) + ' - ' + str(date + 3) + ' ' + random.choice(months))\n",
    "    edition.append(1 + int(10 * np.random.exponential(0.5)))"
   ]
  },
  {
   "cell_type": "code",
   "execution_count": 13,
   "metadata": {},
   "outputs": [],
   "source": [
    "presented_in_df = pd.DataFrame()\n",
    "presented_in_df[':START_ID'] = df_articles['article:ID']\n",
    "presented_in_df[':END_ID'] = conference\n",
    "presented_in_df['venue:string'] = venue\n",
    "presented_in_df['period:string'] = period\n",
    "presented_in_df['edition:string'] = edition"
   ]
  },
  {
   "cell_type": "code",
   "execution_count": 14,
   "metadata": {},
   "outputs": [],
   "source": [
    "presented_in_df.to_csv('presented_in_relationship.csv', header=True, index=False, sep=';')"
   ]
  },
  {
   "cell_type": "code",
   "execution_count": null,
   "metadata": {},
   "outputs": [],
   "source": []
  }
 ],
 "metadata": {
  "kernelspec": {
   "display_name": "sdm",
   "language": "python",
   "name": "sdm"
  },
  "language_info": {
   "codemirror_mode": {
    "name": "ipython",
    "version": 3
   },
   "file_extension": ".py",
   "mimetype": "text/x-python",
   "name": "python",
   "nbconvert_exporter": "python",
   "pygments_lexer": "ipython3",
   "version": "3.6.9"
  }
 },
 "nbformat": 4,
 "nbformat_minor": 2
}
