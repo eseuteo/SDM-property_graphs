{
 "cells": [
  {
   "cell_type": "code",
   "execution_count": 1,
   "metadata": {},
   "outputs": [],
   "source": [
    "import universities\n",
    "import pandas as pd\n",
    "import numpy as np\n",
    "import random"
   ]
  },
  {
   "cell_type": "code",
   "execution_count": 2,
   "metadata": {},
   "outputs": [],
   "source": [
    "uni = universities.API()\n",
    "all_universities = uni.get_all()\n",
    "universities_list = list(all_universities)\n",
    "reduced_list = [random.choice(universities_list) for i in range(500)]\n",
    "names_list = [item.name for item in reduced_list]"
   ]
  },
  {
   "cell_type": "code",
   "execution_count": 4,
   "metadata": {},
   "outputs": [],
   "source": [
    "companies_df = pd.read_csv('companies.csv')"
   ]
  },
  {
   "cell_type": "code",
   "execution_count": 9,
   "metadata": {},
   "outputs": [
    {
     "data": {
      "text/plain": [
       "800"
      ]
     },
     "execution_count": 9,
     "metadata": {},
     "output_type": "execute_result"
    }
   ],
   "source": [
    "companies_names_list = list(companies_df['Company Name'])\n",
    "aux_names_list = [random.choice(companies_names_list) for i in range(300)]\n",
    "names_list += aux_names_list"
   ]
  },
  {
   "cell_type": "code",
   "execution_count": 12,
   "metadata": {},
   "outputs": [],
   "source": [
    "affiliation_df = pd.DataFrame()\n",
    "affiliation_list = []\n",
    "affiliation_type = []\n",
    "affiliation_id = []\n",
    "\n",
    "for i in range(800):\n",
    "    affiliation_list.append(names_list[i])\n",
    "    affiliation_type.append(\"University\" if i < 500 else \"Company\")\n",
    "    affiliation_id.append(\"11122\" + str(i).zfill(3))"
   ]
  },
  {
   "cell_type": "code",
   "execution_count": 13,
   "metadata": {},
   "outputs": [],
   "source": [
    "affiliation_df[':ID'] = affiliation_id\n",
    "affiliation_df['name:string'] = affiliation_list\n",
    "affiliation_df['type:string'] = affiliation_type"
   ]
  },
  {
   "cell_type": "code",
   "execution_count": 15,
   "metadata": {},
   "outputs": [],
   "source": [
    "authors_df = pd.read_csv('data/data_to_populate/author_node.csv', sep=';')"
   ]
  },
  {
   "cell_type": "code",
   "execution_count": 17,
   "metadata": {},
   "outputs": [],
   "source": [
    "belongs_df = pd.DataFrame()\n",
    "author_id = list(authors_df[':ID'])"
   ]
  },
  {
   "cell_type": "code",
   "execution_count": 23,
   "metadata": {},
   "outputs": [
    {
     "name": "stdout",
     "output_type": "stream",
     "text": [
      "0\n",
      "244403\n",
      "488806\n",
      "733209\n",
      "977612\n",
      "1222015\n",
      "1466418\n",
      "1710821\n",
      "1955224\n",
      "2199627\n",
      "2444030\n"
     ]
    }
   ],
   "source": [
    "affiliation_belongs = []\n",
    "for i in range(len(author_id)):\n",
    "    if i % (len(author_id) // 10) == 0:\n",
    "        print(i)\n",
    "    affiliation_belongs.append(affiliation_df.sample()[':ID'].iloc[0])"
   ]
  },
  {
   "cell_type": "code",
   "execution_count": 24,
   "metadata": {},
   "outputs": [],
   "source": [
    "belongs_df[':START_ID'] = author_id\n",
    "belongs_df[':END_ID'] = affiliation_belongs\n",
    "belongs_df.to_csv('belongs_relationship.csv', header=True, index=False, sep=';')\n",
    "affiliation_df.to_csv('affiliation_node.csv', header=True, index=False, sep=';')"
   ]
  }
 ],
 "metadata": {
  "kernelspec": {
   "display_name": "sdm",
   "language": "python",
   "name": "sdm"
  },
  "language_info": {
   "codemirror_mode": {
    "name": "ipython",
    "version": 3
   },
   "file_extension": ".py",
   "mimetype": "text/x-python",
   "name": "python",
   "nbconvert_exporter": "python",
   "pygments_lexer": "ipython3",
   "version": "3.6.9"
  }
 },
 "nbformat": 4,
 "nbformat_minor": 4
}
